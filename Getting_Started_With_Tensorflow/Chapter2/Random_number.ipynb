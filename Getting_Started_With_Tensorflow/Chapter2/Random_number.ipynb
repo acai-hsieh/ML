{
 "cells": [
  {
   "cell_type": "code",
   "execution_count": null,
   "metadata": {},
   "outputs": [],
   "source": [
    "import tensorflow as tf\n",
    "import matplotlib.pyplot as plt"
   ]
  },
  {
   "cell_type": "code",
   "execution_count": null,
   "metadata": {},
   "outputs": [],
   "source": [
    "uniform_with_seed = tf.random_uniform([1], seed=1)\n",
    "uniform_without_seed = tf.random_uniform([1])\n",
    "print(\"First Run\")\n",
    "with tf.Session() as first_session:\n",
    "    print(\"uniform with (seed = 1) = {}\".format(first_session.run(uniform_with_seed)))\n",
    "    print(\"uniform with (seed = 1) = {}\".format(first_session.run(uniform_with_seed)))\n",
    "    print(\"uniform without seed = {}\".format(first_session.run(uniform_without_seed)))\n",
    "    print(\"uniform without seed = {}\".format(first_session.run(uniform_without_seed)))\n",
    "    print(\"Second Run\")\n",
    "with tf.Session() as second_session:\n",
    "    print(\"uniform with (seed = 1) = {}\".format(second_session.run(uniform_with_seed)))\n",
    "    print(\"uniform with (seed = 1) = {}\".format(second_session.run(uniform_with_seed)))\n",
    "    print(\"uniform without seed = {}\".format(second_session.run(uniform_without_seed)))\n",
    "    print(\"uniform without seed = {}\".format(second_session.run(uniform_without_seed)))"
   ]
  }
 ],
 "metadata": {
  "kernelspec": {
   "display_name": "Python 3",
   "language": "python",
   "name": "python3"
  },
  "language_info": {
   "codemirror_mode": {
    "name": "ipython",
    "version": 3
   },
   "file_extension": ".py",
   "mimetype": "text/x-python",
   "name": "python",
   "nbconvert_exporter": "python",
   "pygments_lexer": "ipython3",
   "version": "3.6.6"
  }
 },
 "nbformat": 4,
 "nbformat_minor": 2
}
