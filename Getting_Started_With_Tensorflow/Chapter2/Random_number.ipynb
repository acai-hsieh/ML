{
 "cells": [
  {
   "cell_type": "code",
   "execution_count": 5,
   "metadata": {},
   "outputs": [
    {
     "name": "stderr",
     "output_type": "stream",
     "text": [
      "/home/wkliu/anaconda3/envs/tf/lib/python3.6/site-packages/h5py/__init__.py:36: FutureWarning: Conversion of the second argument of issubdtype from `float` to `np.floating` is deprecated. In future, it will be treated as `np.float64 == np.dtype(float).type`.\n",
      "  from ._conv import register_converters as _register_converters\n"
     ]
    }
   ],
   "source": [
    "import tensorflow as tf\n",
    "import matplotlib.pyplot as plt"
   ]
  },
  {
   "cell_type": "code",
   "execution_count": 6,
   "metadata": {},
   "outputs": [],
   "source": [
    "uniform_with_seed = tf.random_uniform([1], seed=1)\n",
    "uniform_without_seed = tf.random_uniform([1])\n",
    "print(\"First Run\")\n",
    "with tf.Session() as first_session:\n",
    "    print(\"uniform with (seed = 1) = {}\".format(first_session.run(uniform_with_seed)))\n",
    "    print(\"uniform with (seed = 1) = {}\".format(first_session.run(uniform_with_seed)))\n",
    "    print(\"uniform without seed = {}\".format(first_session.run(uniform_without_seed)))\n",
    "    print(\"uniform without seed = {}\".format(first_session.run(uniform_without_seed)))\n",
    "    print(\"Second Run\")\n",
    "with tf.Session() as second_session:\n",
    "    print(\"uniform with (seed = 1) = {}\".format(second_session.run(uniform_with_seed)))\n",
    "    print(\"uniform with (seed = 1) = {}\".format(second_session.run(uniform_with_seed)))\n",
    "    print(\"uniform without seed = {}\".format(second_session.run(uniform_without_seed)))\n",
    "    print(\"uniform without seed = {}\".format(second_session.run(uniform_without_seed)))"
   ]
  }
 ],
 "metadata": {
  "kernelspec": {
   "display_name": "Python 3",
   "language": "python",
   "name": "python3"
  },
  "language_info": {
   "codemirror_mode": {
    "name": "ipython",
    "version": 3
   },
   "file_extension": ".py",
   "mimetype": "text/x-python",
   "name": "python",
   "nbconvert_exporter": "python",
   "pygments_lexer": "ipython3",
   "version": "3.6.6"
  }
 },
 "nbformat": 4,
 "nbformat_minor": 2
}
