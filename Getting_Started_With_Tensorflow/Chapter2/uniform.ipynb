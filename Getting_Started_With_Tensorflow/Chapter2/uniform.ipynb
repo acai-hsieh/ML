{
 "cells": [
  {
   "cell_type": "code",
   "execution_count": 1,
   "metadata": {},
   "outputs": [],
   "source": [
    "import tensorflow as tf\n",
    "import matplotlib.pyplot as plt"
   ]
  },
  {
   "cell_type": "raw",
   "metadata": {},
   "source": [
    "The uniform variable is a 1-dimensional tensor, the elements 100 , containing values\n",
    "ranging from 0 to 1, distributed with the same probability:"
   ]
  },
  {
   "cell_type": "code",
   "execution_count": 2,
   "metadata": {},
   "outputs": [],
   "source": [
    "uniform = tf.random_uniform([100],minval=0,maxval=1,dtype=tf.float32)"
   ]
  },
  {
   "cell_type": "code",
   "execution_count": 4,
   "metadata": {
    "scrolled": true
   },
   "outputs": [],
   "source": [
    "sess = tf.Session()"
   ]
  },
  {
   "cell_type": "code",
   "execution_count": 6,
   "metadata": {
    "scrolled": true
   },
   "outputs": [
    {
     "name": "stdout",
     "output_type": "stream",
     "text": [
      "[0.2411797  0.6964035  0.75893354 0.5545231  0.06011546 0.54737794\n",
      " 0.7660227  0.7474971  0.00974917 0.94101846 0.57651985 0.47427535\n",
      " 0.9426905  0.77634084 0.45509708 0.46261477 0.3253914  0.5942632\n",
      " 0.18103015 0.93709517 0.40620363 0.24695611 0.03562355 0.21546483\n",
      " 0.9512212  0.46176863 0.44108272 0.84264946 0.5395148  0.5632864\n",
      " 0.3453387  0.2634071  0.2691096  0.4077878  0.99611807 0.5392138\n",
      " 0.08087552 0.968928   0.48317897 0.37267816 0.50303686 0.81397736\n",
      " 0.25579464 0.24157071 0.02845097 0.5645747  0.3126148  0.12192583\n",
      " 0.2996863  0.9304223  0.02523255 0.6002493  0.8088646  0.03909671\n",
      " 0.63865805 0.00965047 0.25289583 0.6190157  0.69934833 0.07407081\n",
      " 0.65379655 0.79798496 0.3339182  0.49153602 0.67609596 0.8178208\n",
      " 0.18595922 0.05883944 0.5667738  0.9701941  0.64502656 0.6953554\n",
      " 0.29506147 0.03366935 0.6810305  0.36705256 0.09351516 0.69090533\n",
      " 0.5315721  0.04129088 0.46850348 0.3262372  0.31453907 0.40444994\n",
      " 0.1984353  0.8442738  0.66135013 0.9717313  0.53751945 0.5798106\n",
      " 0.5075605  0.6577866  0.42381418 0.3633139  0.98982406 0.31486404\n",
      " 0.9516083  0.13642478 0.19495773 0.4238863 ]\n"
     ]
    },
    {
     "name": "stderr",
     "output_type": "stream",
     "text": [
      "/home/wkliu/anaconda3/envs/tf/lib/python3.6/site-packages/matplotlib/axes/_axes.py:6462: UserWarning: The 'normed' kwarg is deprecated, and has been replaced by the 'density' kwarg.\n",
      "  warnings.warn(\"The 'normed' kwarg is deprecated, and has been \"\n"
     ]
    },
    {
     "data": {
      "image/png": "[encoded data removed]",
      "text/plain": [
       "<Figure size 432x288 with 1 Axes>"
      ]
     },
     "metadata": {},
     "output_type": "display_data"
    }
   ],
   "source": [
    "with tf.Session() as session:\n",
    "    print(uniform.eval())\n",
    "    plt.hist(uniform.eval(),normed=True)\n",
    "    plt.show()"
   ]
  },
  {
   "cell_type": "code",
   "execution_count": null,
   "metadata": {},
   "outputs": [],
   "source": []
  }
 ],
 "metadata": {
  "kernelspec": {
   "display_name": "Python 3",
   "language": "python",
   "name": "python3"
  },
  "language_info": {
   "codemirror_mode": {
    "name": "ipython",
    "version": 3
   },
   "file_extension": ".py",
   "mimetype": "text/x-python",
   "name": "python",
   "nbconvert_exporter": "python",
   "pygments_lexer": "ipython3",
   "version": "3.6.6"
  }
 },
 "nbformat": 4,
 "nbformat_minor": 2
}
