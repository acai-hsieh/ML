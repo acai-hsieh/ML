{
 "cells": [
  {
   "cell_type": "markdown",
   "metadata": {
    "slideshow": {
     "slide_type": "slide"
    }
   },
   "source": [
    "# Chapter 3 \n",
    "# Starting with Machine Learning - MNIST"
   ]
  },
  {
   "cell_type": "markdown",
   "metadata": {
    "slideshow": {
     "slide_type": "slide"
    }
   },
   "source": [
    "# Contents #\n",
    "***\n",
    "- [ ] Linear regression\n",
    "- [x] The MNIST dataset\n",
    "- [ ] Classifiers\n",
    "- [ ] The nearest neighbor algorithm\n",
    "- [ ] Data clustering\n",
    "- [ ] The k-means algorithm"
   ]
  },
  {
   "cell_type": "markdown",
   "metadata": {
    "slideshow": {
     "slide_type": "slide"
    }
   },
   "source": [
    "## The MNIST dataset \n",
    "***\n",
    "* Available at http://yann.lecun.com/exdb/mnist/ .\n",
    "* Black and white images of handwritten digits from 0 to 9.\n",
    "* Two groups: 60,000 to train the model and an additional 10,000 to test it. \n",
    "* Size 28×28 pixels and centered by calculating the center of mass of the pixels."
   ]
  },
  {
   "cell_type": "markdown",
   "metadata": {
    "slideshow": {
     "slide_type": "fragment"
    }
   },
   "source": [
    "<center><img src=\"imgs\\MNIST_digit_sampling.png\" width=\"45%\" height=\"45%\"></center>\n",
    "<center>MNIST digit sampling</center>"
   ]
  },
  {
   "cell_type": "markdown",
   "metadata": {
    "slideshow": {
     "slide_type": "slide"
    }
   },
   "source": [
    "Each MNIST data point is an array of numbers describing how dark each pixel is. \n",
    "<center><img src=\"imgs\\Pixel_representation_of_the_digit_1.png\" width=\"90%\" height=\"90%\"></center>"
   ]
  },
  {
   "cell_type": "markdown",
   "metadata": {
    "slideshow": {
     "slide_type": "slide"
    }
   },
   "source": [
    "\n",
    "Downloading and preparing the data The following code imports the MNIST data files that we are going to classify. I am using a script from Google that can be downloaded from:\n",
    "<HR>\n",
    "    \n",
    "[https://github.com/tensorflow/tensorflow/blob/r0.7/tensorflow/examples/tutorials/mnist/input_data.py](https://github.com/tensorflow/tensorflow/blob/r0.7/tensorflow/examples/tutorials/mnist/input_data.py)\n",
    "\n",
    "<HR>\n",
    "__This must be run in the same folder where the files are located.__"
   ]
  },
  {
   "cell_type": "code",
   "execution_count": 31,
   "metadata": {
    "slideshow": {
     "slide_type": "slide"
    }
   },
   "outputs": [
    {
     "name": "stdout",
     "output_type": "stream",
     "text": [
      "Extracting MNIST_data\\train-images-idx3-ubyte.gz\n",
      "Extracting MNIST_data\\train-labels-idx1-ubyte.gz\n",
      "Extracting MNIST_data\\t10k-images-idx3-ubyte.gz\n",
      "Extracting MNIST_data\\t10k-labels-idx1-ubyte.gz\n",
      "list of values loaded %d [7 3 4 6 1 8 1 0 9 8]\n",
      "element N 6 of the list plotted\n"
     ]
    }
   ],
   "source": [
    "# Now we will show how to load and display the data:\n",
    "import input_data\n",
    "import numpy as np\n",
    "import matplotlib.pyplot as plt \n",
    "\n",
    "# Using input_data, we load the data sets:\n",
    "# wrong: mnist_images = input_data.read_data_sets(\"MNIST_data/\",one_hot=\"False\")\n",
    "mnist_images = input_data.read_data_sets(\"MNIST_data\",one_hot=False)\n",
    "\n",
    "# train.next_batch(10) returns the first 10 images :    \n",
    "pixels,real_values = mnist_images.train.next_batch(10) \n",
    "\n",
    "# This also returns two lists: the matrix of the pixels loaded and the list that contains the real values loaded:\n",
    "\n",
    "# Wrong: print \"list of values loaded \",real_values\n",
    "print (\"list of values loaded %d\",real_values)\n",
    "\n",
    "example_to_visualize = 5    \n",
    "# Wrong: print \"element N° \" + str(example_to_visualize + 1) + \" of the list plotted\"\n",
    "print (\"element N \" + str(example_to_visualize + 1) + \" of the list plotted\")\n"
   ]
  },
  {
   "cell_type": "code",
   "execution_count": 17,
   "metadata": {
    "scrolled": true,
    "slideshow": {
     "slide_type": "slide"
    }
   },
   "outputs": [
    {
     "data": {
      "image/png": "[encoded data removed]",
      "text/plain": [
       "<Figure size 432x288 with 1 Axes>"
      ]
     },
     "metadata": {},
     "output_type": "display_data"
    }
   ],
   "source": [
    "# While displaying an element, we can use matplotlib, as follows:\n",
    "image = pixels[example_to_visualize,:]\n",
    "image = np.reshape(image,[28,28])\n",
    "plt.imshow(image)\n",
    "plt.show()"
   ]
  },
  {
   "cell_type": "code",
   "execution_count": 23,
   "metadata": {
    "slideshow": {
     "slide_type": "notes"
    }
   },
   "outputs": [
    {
     "name": "stdout",
     "output_type": "stream",
     "text": [
      "Extracting MNIST_data\\train-images-idx3-ubyte.gz\n",
      "Extracting MNIST_data\\train-labels-idx1-ubyte.gz\n",
      "Extracting MNIST_data\\t10k-images-idx3-ubyte.gz\n",
      "Extracting MNIST_data\\t10k-labels-idx1-ubyte.gz\n",
      "(55000, 784)\n",
      "(55000, 10)\n",
      "(10000, 784)\n",
      "(10000, 10)\n",
      "(5000, 784)\n",
      "(5000, 10)\n"
     ]
    }
   ],
   "source": [
    "mnist_images = input_data.read_data_sets(\"MNIST_data\",one_hot=True)\n",
    "print(mnist_images.train.images.shape)\n",
    "print(mnist_images.train.labels.shape)\n",
    "print(mnist_images.test.images.shape)\n",
    "print(mnist_images.test.labels.shape)\n",
    "print(mnist_images.validation.images.shape)\n",
    "print(mnist_images.validation.labels.shape)"
   ]
  },
  {
   "cell_type": "code",
   "execution_count": 24,
   "metadata": {
    "slideshow": {
     "slide_type": "notes"
    }
   },
   "outputs": [
    {
     "data": {
      "text/plain": [
       "array([0.        , 0.        , 0.        , 0.        , 0.        ,\n",
       "       0.        , 0.        , 0.        , 0.        , 0.        ,\n",
       "       0.        , 0.        , 0.        , 0.        , 0.        ,\n",
       "       0.        , 0.        , 0.        , 0.        , 0.        ,\n",
       "       0.        , 0.        , 0.        , 0.        , 0.        ,\n",
       "       0.        , 0.        , 0.        , 0.        , 0.        ,\n",
       "       0.        , 0.        , 0.        , 0.        , 0.        ,\n",
       "       0.        , 0.        , 0.        , 0.        , 0.        ,\n",
       "       0.        , 0.        , 0.        , 0.        , 0.        ,\n",
       "       0.        , 0.        , 0.        , 0.        , 0.        ,\n",
       "       0.        , 0.        , 0.        , 0.        , 0.        ,\n",
       "       0.        , 0.        , 0.        , 0.        , 0.        ,\n",
       "       0.        , 0.        , 0.        , 0.        , 0.        ,\n",
       "       0.        , 0.        , 0.        , 0.        , 0.        ,\n",
       "       0.        , 0.        , 0.        , 0.        , 0.        ,\n",
       "       0.        , 0.        , 0.        , 0.        , 0.        ,\n",
       "       0.        , 0.        , 0.        , 0.        , 0.        ,\n",
       "       0.        , 0.        , 0.        , 0.        , 0.        ,\n",
       "       0.        , 0.        , 0.        , 0.        , 0.        ,\n",
       "       0.        , 0.        , 0.        , 0.        , 0.        ,\n",
       "       0.        , 0.        , 0.        , 0.        , 0.        ,\n",
       "       0.        , 0.        , 0.        , 0.        , 0.        ,\n",
       "       0.        , 0.        , 0.        , 0.        , 0.        ,\n",
       "       0.        , 0.        , 0.        , 0.        , 0.        ,\n",
       "       0.        , 0.        , 0.        , 0.        , 0.        ,\n",
       "       0.        , 0.        , 0.        , 0.        , 0.        ,\n",
       "       0.        , 0.        , 0.        , 0.        , 0.        ,\n",
       "       0.        , 0.        , 0.        , 0.        , 0.        ,\n",
       "       0.        , 0.        , 0.        , 0.        , 0.        ,\n",
       "       0.        , 0.        , 0.        , 0.        , 0.        ,\n",
       "       0.        , 0.        , 0.        , 0.        , 0.        ,\n",
       "       0.23137257, 0.6392157 , 0.9960785 , 0.9960785 , 0.9960785 ,\n",
       "       0.7607844 , 0.43921572, 0.07058824, 0.        , 0.        ,\n",
       "       0.        , 0.        , 0.        , 0.        , 0.        ,\n",
       "       0.        , 0.        , 0.        , 0.        , 0.        ,\n",
       "       0.        , 0.        , 0.        , 0.        , 0.        ,\n",
       "       0.        , 0.01568628, 0.5176471 , 0.93725497, 0.9921569 ,\n",
       "       0.9921569 , 0.9921569 , 0.9921569 , 0.9960785 , 0.9921569 ,\n",
       "       0.627451  , 0.        , 0.        , 0.        , 0.        ,\n",
       "       0.        , 0.        , 0.        , 0.        , 0.        ,\n",
       "       0.        , 0.        , 0.        , 0.        , 0.        ,\n",
       "       0.        , 0.        , 0.        , 0.        , 0.5372549 ,\n",
       "       0.9921569 , 0.9960785 , 0.9921569 , 0.9921569 , 0.9921569 ,\n",
       "       0.75294125, 0.9960785 , 0.9921569 , 0.8980393 , 0.0509804 ,\n",
       "       0.        , 0.        , 0.        , 0.        , 0.        ,\n",
       "       0.        , 0.        , 0.        , 0.        , 0.        ,\n",
       "       0.        , 0.        , 0.        , 0.        , 0.        ,\n",
       "       0.01568628, 0.5372549 , 0.9843138 , 0.9921569 , 0.9568628 ,\n",
       "       0.50980395, 0.19215688, 0.07450981, 0.01960784, 0.6392157 ,\n",
       "       0.9921569 , 0.8235295 , 0.03529412, 0.        , 0.        ,\n",
       "       0.        , 0.        , 0.        , 0.        , 0.        ,\n",
       "       0.        , 0.        , 0.        , 0.        , 0.        ,\n",
       "       0.        , 0.        , 0.        , 0.37254903, 0.9921569 ,\n",
       "       0.9921569 , 0.8431373 , 0.1764706 , 0.        , 0.        ,\n",
       "       0.        , 0.        , 0.6117647 , 0.9921569 , 0.68235296,\n",
       "       0.        , 0.        , 0.        , 0.        , 0.        ,\n",
       "       0.        , 0.        , 0.        , 0.        , 0.        ,\n",
       "       0.        , 0.        , 0.        , 0.        , 0.        ,\n",
       "       0.        , 0.8431373 , 0.9960785 , 0.8117648 , 0.09019608,\n",
       "       0.        , 0.        , 0.        , 0.03921569, 0.3803922 ,\n",
       "       0.85098046, 0.9176471 , 0.        , 0.        , 0.        ,\n",
       "       0.        , 0.        , 0.        , 0.        , 0.        ,\n",
       "       0.        , 0.        , 0.        , 0.        , 0.        ,\n",
       "       0.        , 0.        , 0.        , 0.        , 0.83921576,\n",
       "       0.9921569 , 0.2784314 , 0.        , 0.        , 0.00784314,\n",
       "       0.19607845, 0.8352942 , 0.9921569 , 0.9960785 , 0.7058824 ,\n",
       "       0.        , 0.        , 0.        , 0.        , 0.        ,\n",
       "       0.        , 0.        , 0.        , 0.        , 0.        ,\n",
       "       0.        , 0.        , 0.        , 0.        , 0.        ,\n",
       "       0.        , 0.        , 0.83921576, 0.9921569 , 0.19215688,\n",
       "       0.        , 0.        , 0.19607845, 0.9921569 , 0.9921569 ,\n",
       "       0.9921569 , 0.7176471 , 0.04705883, 0.        , 0.        ,\n",
       "       0.        , 0.        , 0.        , 0.        , 0.        ,\n",
       "       0.        , 0.        , 0.        , 0.        , 0.        ,\n",
       "       0.        , 0.        , 0.        , 0.        , 0.        ,\n",
       "       0.7803922 , 0.9921569 , 0.95294124, 0.7686275 , 0.62352943,\n",
       "       0.95294124, 0.9921569 , 0.9686275 , 0.5411765 , 0.03137255,\n",
       "       0.        , 0.        , 0.        , 0.        , 0.        ,\n",
       "       0.        , 0.        , 0.        , 0.        , 0.        ,\n",
       "       0.        , 0.        , 0.        , 0.        , 0.        ,\n",
       "       0.        , 0.        , 0.        , 0.16470589, 0.9921569 ,\n",
       "       0.9921569 , 0.9921569 , 0.9960785 , 0.9921569 , 0.9921569 ,\n",
       "       0.39607847, 0.        , 0.        , 0.        , 0.        ,\n",
       "       0.        , 0.        , 0.        , 0.        , 0.        ,\n",
       "       0.        , 0.        , 0.        , 0.        , 0.        ,\n",
       "       0.        , 0.        , 0.        , 0.        , 0.        ,\n",
       "       0.23137257, 0.58431375, 0.9960785 , 0.9960785 , 0.9960785 ,\n",
       "       1.        , 0.9960785 , 0.6862745 , 0.        , 0.        ,\n",
       "       0.        , 0.        , 0.        , 0.        , 0.        ,\n",
       "       0.        , 0.        , 0.        , 0.        , 0.        ,\n",
       "       0.        , 0.        , 0.        , 0.        , 0.        ,\n",
       "       0.        , 0.13333334, 0.75294125, 0.9960785 , 0.9921569 ,\n",
       "       0.9921569 , 0.9921569 , 0.7843138 , 0.53333336, 0.89019614,\n",
       "       0.9450981 , 0.27058825, 0.        , 0.        , 0.        ,\n",
       "       0.        , 0.        , 0.        , 0.        , 0.        ,\n",
       "       0.        , 0.        , 0.        , 0.        , 0.        ,\n",
       "       0.        , 0.        , 0.        , 0.33333334, 0.9686275 ,\n",
       "       0.9921569 , 0.9960785 , 0.9921569 , 0.77647066, 0.48235297,\n",
       "       0.07058824, 0.        , 0.19607845, 0.9921569 , 0.8352942 ,\n",
       "       0.        , 0.        , 0.        , 0.        , 0.        ,\n",
       "       0.        , 0.        , 0.        , 0.        , 0.        ,\n",
       "       0.        , 0.        , 0.        , 0.        , 0.        ,\n",
       "       0.2784314 , 0.9686275 , 0.9921569 , 0.9294118 , 0.75294125,\n",
       "       0.2784314 , 0.02352941, 0.        , 0.        , 0.        ,\n",
       "       0.00784314, 0.5019608 , 0.9803922 , 0.21176472, 0.        ,\n",
       "       0.        , 0.        , 0.        , 0.        , 0.        ,\n",
       "       0.        , 0.        , 0.        , 0.        , 0.        ,\n",
       "       0.        , 0.        , 0.        , 0.46274513, 0.9921569 ,\n",
       "       0.8705883 , 0.14117648, 0.        , 0.        , 0.        ,\n",
       "       0.        , 0.        , 0.        , 0.03137255, 0.7176471 ,\n",
       "       0.9921569 , 0.227451  , 0.        , 0.        , 0.        ,\n",
       "       0.        , 0.        , 0.        , 0.        , 0.        ,\n",
       "       0.        , 0.        , 0.        , 0.        , 0.        ,\n",
       "       0.        , 0.46274513, 0.9960785 , 0.54509807, 0.        ,\n",
       "       0.        , 0.        , 0.        , 0.        , 0.        ,\n",
       "       0.05490196, 0.7294118 , 0.9960785 , 0.9960785 , 0.227451  ,\n",
       "       0.        , 0.        , 0.        , 0.        , 0.        ,\n",
       "       0.        , 0.        , 0.        , 0.        , 0.        ,\n",
       "       0.        , 0.        , 0.        , 0.        , 0.2784314 ,\n",
       "       0.9686275 , 0.9686275 , 0.54509807, 0.0627451 , 0.        ,\n",
       "       0.        , 0.07450981, 0.227451  , 0.87843144, 0.9921569 ,\n",
       "       0.9921569 , 0.8313726 , 0.03529412, 0.        , 0.        ,\n",
       "       0.        , 0.        , 0.        , 0.        , 0.        ,\n",
       "       0.        , 0.        , 0.        , 0.        , 0.        ,\n",
       "       0.        , 0.        , 0.        , 0.42352945, 0.9921569 ,\n",
       "       0.9921569 , 0.92549026, 0.6862745 , 0.6862745 , 0.9686275 ,\n",
       "       0.9921569 , 0.9960785 , 0.9921569 , 0.77647066, 0.16862746,\n",
       "       0.        , 0.        , 0.        , 0.        , 0.        ,\n",
       "       0.        , 0.        , 0.        , 0.        , 0.        ,\n",
       "       0.        , 0.        , 0.        , 0.        , 0.        ,\n",
       "       0.        , 0.2627451 , 0.8352942 , 0.8980393 , 0.9960785 ,\n",
       "       0.9921569 , 0.9921569 , 0.9921569 , 0.9921569 , 0.83921576,\n",
       "       0.48627454, 0.02352941, 0.        , 0.        , 0.        ,\n",
       "       0.        , 0.        , 0.        , 0.        , 0.        ,\n",
       "       0.        , 0.        , 0.        , 0.        , 0.        ,\n",
       "       0.        , 0.        , 0.        , 0.        , 0.        ,\n",
       "       0.        , 0.09019608, 0.60784316, 0.60784316, 0.8745099 ,\n",
       "       0.7843138 , 0.46274513, 0.        , 0.        , 0.        ,\n",
       "       0.        , 0.        , 0.        , 0.        , 0.        ,\n",
       "       0.        , 0.        , 0.        , 0.        , 0.        ,\n",
       "       0.        , 0.        , 0.        , 0.        , 0.        ,\n",
       "       0.        , 0.        , 0.        , 0.        , 0.        ,\n",
       "       0.        , 0.        , 0.        , 0.        , 0.        ,\n",
       "       0.        , 0.        , 0.        , 0.        , 0.        ,\n",
       "       0.        , 0.        , 0.        , 0.        , 0.        ,\n",
       "       0.        , 0.        , 0.        , 0.        , 0.        ,\n",
       "       0.        , 0.        , 0.        , 0.        , 0.        ,\n",
       "       0.        , 0.        , 0.        , 0.        , 0.        ,\n",
       "       0.        , 0.        , 0.        , 0.        , 0.        ,\n",
       "       0.        , 0.        , 0.        , 0.        , 0.        ,\n",
       "       0.        , 0.        , 0.        , 0.        , 0.        ,\n",
       "       0.        , 0.        , 0.        , 0.        , 0.        ,\n",
       "       0.        , 0.        , 0.        , 0.        , 0.        ,\n",
       "       0.        , 0.        , 0.        , 0.        , 0.        ,\n",
       "       0.        , 0.        , 0.        , 0.        , 0.        ,\n",
       "       0.        , 0.        , 0.        , 0.        , 0.        ,\n",
       "       0.        , 0.        , 0.        , 0.        ], dtype=float32)"
      ]
     },
     "execution_count": 24,
     "metadata": {},
     "output_type": "execute_result"
    }
   ],
   "source": [
    "mnist_images.train.images[5]"
   ]
  },
  {
   "cell_type": "code",
   "execution_count": 30,
   "metadata": {
    "slideshow": {
     "slide_type": "notes"
    }
   },
   "outputs": [
    {
     "data": {
      "text/plain": [
       "(784,)"
      ]
     },
     "execution_count": 30,
     "metadata": {},
     "output_type": "execute_result"
    }
   ],
   "source": [
    "mnist_images.train.images[5].shape"
   ]
  },
  {
   "cell_type": "code",
   "execution_count": 29,
   "metadata": {},
   "outputs": [
    {
     "data": {
      "text/plain": [
       "array([0., 0., 0., 0., 0., 0., 0., 0., 1., 0.])"
      ]
     },
     "execution_count": 29,
     "metadata": {},
     "output_type": "execute_result"
    }
   ],
   "source": [
    "mnist_images.train.labels[5]"
   ]
  }
 ],
 "metadata": {
  "celltoolbar": "Slideshow",
  "kernelspec": {
   "display_name": "Python 3",
   "language": "python",
   "name": "python3"
  },
  "language_info": {
   "codemirror_mode": {
    "name": "ipython",
    "version": 3
   },
   "file_extension": ".py",
   "mimetype": "text/x-python",
   "name": "python",
   "nbconvert_exporter": "python",
   "pygments_lexer": "ipython3",
   "version": "3.5.5"
  }
 },
 "nbformat": 4,
 "nbformat_minor": 2
}
