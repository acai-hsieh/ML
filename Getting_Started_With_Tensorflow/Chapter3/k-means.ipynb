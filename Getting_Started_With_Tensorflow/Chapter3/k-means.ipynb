{
 "cells": [
  {
   "cell_type": "markdown",
   "metadata": {
    "slideshow": {
     "slide_type": "slide"
    }
   },
   "source": [
    "# Chapter 3 \n",
    "# Starting with Machine Learning 3/3"
   ]
  },
  {
   "cell_type": "markdown",
   "metadata": {
    "slideshow": {
     "slide_type": "slide"
    }
   },
   "source": [
    "# Contents #\n",
    "***\n",
    "- [ ] Linear regression\n",
    "- [ ] The MNIST dataset\n",
    "- [ ] Classifiers\n",
    "- [ ] The nearest neighbor algorithm\n",
    "- [x] Data clustering\n",
    "- [x] The k-means algorithm"
   ]
  },
  {
   "cell_type": "markdown",
   "metadata": {
    "slideshow": {
     "slide_type": "slide"
    }
   },
   "source": [
    "# Data clustering\n",
    "***\n",
    "A clustering problem consists in the selection and grouping of homogeneous items from a set of initial data. To solve this problem, we must: \n",
    "\n",
    "* Identify a resemblance measure between elements \n",
    "* Find out if there are subsets of elements that are similar to the measure chosen \n",
    "\n",
    "The algorithm determines which elements form a cluster and what degree of similarity unites them within the cluster. The clustering algorithms fall into the unsupervised methods, because we do not assume any prior information on the structures and characteristics of the clusters.\n"
   ]
  },
  {
   "cell_type": "markdown",
   "metadata": {
    "slideshow": {
     "slide_type": "slide"
    }
   },
   "source": [
    "# The k-means algorithm\n",
    "***\n",
    "One of the most common and simple clustering algorithms is k-means, which allows subdividing groups of objects into k partitions on the basis of their attributes. Each cluster is identified by a point or centroid average.\n",
    "\n",
    "__The algorithm follows an iterative procedure:__\n",
    "1. Randomly select K points as the initial centroids. \n",
    "2. Repeat.\n",
    "3. Form K clusters by assigning all points to the closest centroid.\n",
    "4. Recompute the centroid of each cluster.\n",
    "5. Until the centroids don't change."
   ]
  },
  {
   "cell_type": "markdown",
   "metadata": {
    "slideshow": {
     "slide_type": "slide"
    }
   },
   "source": [
    "<video src=\"imgs/Clustering_and_k-means.mp4#t=00:00:00,00:04:21\" controls poster=\"imgs\\k-means_clustering_algrithm.png\" width=\"100%\">\n",
    "</video>"
   ]
  },
  {
   "cell_type": "markdown",
   "metadata": {
    "slideshow": {
     "slide_type": "slide"
    }
   },
   "source": [
    "<video src=\"imgs/Clustering_and_k-means.mp4#t=00:04:23,00:07:34\" controls poster=\"imgs\\k-means_clustering_example.png\" width=\"100%\">\n",
    "</video>"
   ]
  },
  {
   "cell_type": "markdown",
   "metadata": {
    "slideshow": {
     "slide_type": "slide"
    }
   },
   "source": [
    "# Main features of k-means\n",
    "***\n",
    "\n",
    "* The popularity of the k-means comes from its convergence speed and its ease of implementation.\n",
    "* In terms of the quality of the solutions, the algorithm does not guarantee achieving the global optimum. The quality of the final solution depends largely on the initial set of clusters and may, in practice, to obtain a much worse the global optimum solution. \n",
    "\n",
    "* Since the algorithm is extremely fast, you can apply it several times and produce solutions from which you can choose among most satisfying one. \n",
    "\n",
    "* Another disadvantage of the algorithm is that it requires you to choose the number of clusters (k) to find. \n",
    "\n",
    "* If the data is not naturally partitioned, you will end up getting strange results. Furthermore, the algorithm works well only when there are identifiable spherical clusters in the data. "
   ]
  },
  {
   "cell_type": "markdown",
   "metadata": {
    "slideshow": {
     "slide_type": "slide"
    }
   },
   "source": [
    "# Building the training set \n",
    "***"
   ]
  },
  {
   "cell_type": "code",
   "execution_count": 1,
   "metadata": {
    "slideshow": {
     "slide_type": "fragment"
    }
   },
   "outputs": [],
   "source": [
    "# Import all the necessary libraries to our simulation:\n",
    "import matplotlib.pyplot as plt    \n",
    "import numpy as np    \n",
    "import tensorflow as tf    \n",
    "import pandas as pd "
   ]
  },
  {
   "cell_type": "markdown",
   "metadata": {
    "slideshow": {
     "slide_type": "notes"
    }
   },
   "source": [
    "Pandas is an open source, easy-to-use data structure, and data analysis tool for the Python programming language. To install it, type the following command:\n",
    "\n",
    "    sudo pip install pandas"
   ]
  },
  {
   "cell_type": "code",
   "execution_count": 2,
   "metadata": {
    "slideshow": {
     "slide_type": "fragment"
    }
   },
   "outputs": [],
   "source": [
    "# We must define the parameters of our problem. \n",
    "# The total number of points that we want to cluster is 1000 points:\n",
    "num_vectors = 1000 \n",
    "\n",
    "# The number of partitions you want to achieve by all initial:\n",
    "num_clusters = 4 \n",
    "\n",
    "# We set the number of computational steps of the k-means algorithm:\n",
    "num_steps = 100 \n",
    "\n",
    "# We initialize the initial input data structures:\n",
    "x_values = []    \n",
    "y_values = []    \n",
    "vector_values = [] "
   ]
  },
  {
   "cell_type": "code",
   "execution_count": 3,
   "metadata": {
    "slideshow": {
     "slide_type": "subslide"
    }
   },
   "outputs": [],
   "source": [
    "# The training set creates a random set of points, which is why we use the random.normal NumPy function, \n",
    "# allowing us to build the x_values and y_values vectors:\n",
    "# wrong: for i in xrange(num_vectors):      \n",
    "for i in range(num_vectors):      \n",
    "    if np.random.random() > 0.5:        \n",
    "        x_values.append(np.random.normal(0.4, 0.7))        \n",
    "        y_values.append(np.random.normal(0.2, 0.8))      \n",
    "    else:        \n",
    "        x_values.append(np.random.normal(0.6, 0.4))        \n",
    "        y_values.append(np.random.normal(0.8, 0.5)) \n",
    "\n",
    "# We use the Python zip function to obtain the complete list of vector_values:\n",
    "# wrong: vector_values = zip(x_values,y_values)\n",
    "vector_values = list(zip(x_values,y_values) )\n",
    "    \n",
    "#Then vector_values is converted into a constant, usable by TensorFlow:\n",
    "vectors = tf.constant(vector_values)"
   ]
  },
  {
   "cell_type": "code",
   "execution_count": 4,
   "metadata": {
    "slideshow": {
     "slide_type": "subslide"
    }
   },
   "outputs": [
    {
     "data": {
      "image/png": "[encoded data removed]",
      "text/plain": [
       "<Figure size 720x432 with 1 Axes>"
      ]
     },
     "metadata": {},
     "output_type": "display_data"
    }
   ],
   "source": [
    "# We can see our training set for the clustering algorithm with the following commands:\n",
    "plt.figure(figsize=(10,6))\n",
    "plt.plot(x_values,y_values, 'o', label='Input Data')\n",
    "plt.legend()    \n",
    "plt.show()"
   ]
  },
  {
   "cell_type": "markdown",
   "metadata": {
    "slideshow": {
     "slide_type": "slide"
    }
   },
   "source": [
    "#  Generating centroid\n",
    "***"
   ]
  },
  {
   "cell_type": "code",
   "execution_count": 5,
   "metadata": {
    "slideshow": {
     "slide_type": "fragment"
    }
   },
   "outputs": [],
   "source": [
    "# After randomly building the training set, we have to generate (k = 4) centroid, \n",
    "# then determine an index using tf.random_shuffle:\n",
    "n_samples = tf.shape(vector_values)[0]    \n",
    "random_indices = tf.random_shuffle(tf.range(0, n_samples)) \n",
    "\n",
    "# By adopting this procedure, we are able to determine four random indices:\n",
    "begin = [0,]    \n",
    "size = [num_clusters,] \n",
    "size[0] = num_clusters \n",
    "\n",
    "# They have their own indexes of our initial centroids:\n",
    "centroid_indices = tf.slice(random_indices, begin, size)    \n",
    "centroids = tf.Variable(tf.gather(vector_values, centroid_indices))\n"
   ]
  },
  {
   "cell_type": "markdown",
   "metadata": {
    "slideshow": {
     "slide_type": "slide"
    }
   },
   "source": [
    "# Cost functions and optimization \n",
    "***\n",
    "\n",
    "The cost function we want to minimize for this problem is again the Euclidean distance between two points:\n",
    "\n",
    "<center><img src=\"imgs\\knn_equation.png\" width=\"40%\" height=\"40%\"></center>"
   ]
  },
  {
   "cell_type": "code",
   "execution_count": 6,
   "metadata": {
    "slideshow": {
     "slide_type": "fragment"
    }
   },
   "outputs": [],
   "source": [
    "# In order to manage the tensors defined previously, vectors and centroids, \n",
    "# we use the TensorFlow function expand_dims, \n",
    "# which automatically expands the size of the two arguments:\n",
    "expanded_vectors = tf.expand_dims(vectors, 0)    \n",
    "expanded_centroids = tf.expand_dims(centroids, 1) \n",
    "\n",
    "# This function allows you to standardize the shape of the two tensors, \n",
    "# in order to evaluate the difference by the tf.sub method:\n",
    "## wrong: vectors_subtration = tf.sub(expanded_vectors,expanded_centroids)\n",
    "vectors_subtration = tf.subtract (expanded_vectors,expanded_centroids)"
   ]
  },
  {
   "cell_type": "code",
   "execution_count": 7,
   "metadata": {
    "slideshow": {
     "slide_type": "notes"
    }
   },
   "outputs": [],
   "source": [
    "## debugging info\n",
    "## expanded_vectors_x = tf.Print(expanded_vectors,[expanded_vectors,expanded_vectors.shape,'expanded_vectors'],message='Debug message:',summarize=100)\n",
    "## expanded_centroids_x=tf.Print(expanded_centroids,[expanded_centroids,expanded_centroids.shape,'expanded_centroids'],message='Debug message:',summarize=100)"
   ]
  },
  {
   "cell_type": "markdown",
   "metadata": {
    "slideshow": {
     "slide_type": "subslide"
    }
   },
   "source": [
    "Finally, we build the euclidean_distances cost function, using the tf.reduce_sum function, which computes the sum of elements across the dimensions of a tensor, while the tf.square function computes the square of the vectors_subtration element-wise tensor:"
   ]
  },
  {
   "cell_type": "code",
   "execution_count": 8,
   "metadata": {
    "slideshow": {
     "slide_type": "fragment"
    }
   },
   "outputs": [],
   "source": [
    "euclidean_distances = tf.reduce_sum(tf.square(vectors_subtration), 2)    \n",
    "assignments = tf.to_int32(tf.argmin(euclidean_distances, 0))"
   ]
  },
  {
   "cell_type": "markdown",
   "metadata": {
    "slideshow": {
     "slide_type": "fragment"
    }
   },
   "source": [
    "Here assignments is the value of the index with the smallest distance across the tensor euclidean_distances. Let us now turn to the optimization phase, the purpose of which is to improve the choice of centroids, on which the construction of the clusters depends. We partition the vectors (which is our training set) into num_clusters tensors, using indices from assignments. "
   ]
  },
  {
   "cell_type": "code",
   "execution_count": 9,
   "metadata": {
    "slideshow": {
     "slide_type": "subslide"
    }
   },
   "outputs": [],
   "source": [
    "# The following code takes the nearest indices for each sample, \n",
    "# and grabs those out as separate groups using tf.dynamic_partition:\n",
    "partitions = tf.dynamic_partition(vectors, assignments, num_clusters) \n",
    "    \n",
    "# Finally, we update the centroids, using tf.reduce_mean on a single group to find the average of that group, forming its new centroid:\n",
    "## wrong: update_centroids = tf.concat(0, [tf.expand_dims(tf.reduce_mean(partition, 0), 0) for partition in partitions]) \n",
    "update_centroids = tf.concat([tf.expand_dims(tf.reduce_mean(partition, 0), 0) for partition in partitions],0 ) \n",
    "\n",
    "#To form the update_centroids tensor, we use tf.concat to concatenate the single one.\n"
   ]
  },
  {
   "cell_type": "markdown",
   "metadata": {
    "slideshow": {
     "slide_type": "slide"
    }
   },
   "source": [
    "# Testing and algorithm evaluation\n",
    "***"
   ]
  },
  {
   "cell_type": "code",
   "execution_count": 10,
   "metadata": {
    "slideshow": {
     "slide_type": "fragment"
    }
   },
   "outputs": [],
   "source": [
    "# It's time to test and evaluate the algorithm. The first procedure is to initialize all the variables and instantiate the evaluation graph:\n",
    "## wrong: init_op = tf.initialize_all_variables() \n",
    "init_op = tf.global_variables_initializer()\n",
    "sess = tf.Session()    \n",
    "sess.run(init_op)\n",
    "\n",
    "## sess.run(expanded_vectors_x)\n",
    "## sess.run(expanded_centroids_x)"
   ]
  },
  {
   "cell_type": "code",
   "execution_count": 11,
   "metadata": {
    "slideshow": {
     "slide_type": "fragment"
    }
   },
   "outputs": [],
   "source": [
    "# Now we start the computation:\n",
    "## wrong:     for step in xrange(num_steps):       \n",
    "for step in range(num_steps):       \n",
    "    _, centroid_values, assignment_values = sess.run([update_centroids, centroids, assignments]) \n",
    "    #print(\"\\n\",\"-=\",_, \"\\n centroid=\",centroid_values, \"\\n assignment=\",assignment_values,\"\\n\")"
   ]
  },
  {
   "cell_type": "markdown",
   "metadata": {
    "slideshow": {
     "slide_type": "subslide"
    }
   },
   "source": [
    "# Let's display the result:"
   ]
  },
  {
   "cell_type": "code",
   "execution_count": 12,
   "metadata": {
    "slideshow": {
     "slide_type": "fragment"
    }
   },
   "outputs": [],
   "source": [
    "# The code for this visualization function is as follows:\n",
    "def display_partition(x_values,y_values,assignment_values):        \n",
    "        labels = []        \n",
    "        colors = [\"red\",\"blue\",\"green\",\"yellow\"]        \n",
    "        ## wrong for i in xrange(len(assignment_values)):\n",
    "        for i in range(len(assignment_values)):\n",
    "            labels.append(colors[(assignment_values[i])])        \n",
    "        color = labels        \n",
    "        df = pd.DataFrame(dict(x =x_values,y = y_values ,color = labels ))\n",
    "        fig, ax = plt.subplots()        \n",
    "        ax.scatter(df['x'], df['y'], c=df['color'])        \n",
    "        plt.show() "
   ]
  },
  {
   "cell_type": "markdown",
   "metadata": {
    "slideshow": {
     "slide_type": "fragment"
    }
   },
   "source": [
    "It associates to each cluster its color by means of the following data structure:\n",
    "\n",
    "    colors = [\"red\",\"blue\",\"green\",\"yellow\"] \n",
    "\n",
    "It then draws them through the scatter function of matplotlib:\n",
    "    \n",
    "    ax.scatter(df['x'], df['y'], c=df['color'])"
   ]
  },
  {
   "cell_type": "code",
   "execution_count": 13,
   "metadata": {
    "slideshow": {
     "slide_type": "subslide"
    }
   },
   "outputs": [
    {
     "data": {
      "image/png": "[encoded data removed]",
      "text/plain": [
       "<Figure size 432x288 with 1 Axes>"
      ]
     },
     "metadata": {},
     "output_type": "display_data"
    },
    {
     "data": {
      "image/png": "[encoded data removed]",
      "text/plain": [
       "<Figure size 432x288 with 1 Axes>"
      ]
     },
     "metadata": {},
     "output_type": "display_data"
    }
   ],
   "source": [
    "display_partition(x_values,y_values,assignment_values)    \n",
    "plt.plot(x_values,y_values, 'o', label='Input Data')    \n",
    "plt.legend()    \n",
    "plt.show()"
   ]
  }
 ],
 "metadata": {
  "celltoolbar": "Slideshow",
  "kernelspec": {
   "display_name": "Python 3",
   "language": "python",
   "name": "python3"
  },
  "language_info": {
   "codemirror_mode": {
    "name": "ipython",
    "version": 3
   },
   "file_extension": ".py",
   "mimetype": "text/x-python",
   "name": "python",
   "nbconvert_exporter": "python",
   "pygments_lexer": "ipython3",
   "version": "3.5.5"
  }
 },
 "nbformat": 4,
 "nbformat_minor": 2
}
